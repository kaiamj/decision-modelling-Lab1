{
 "cells": [
  {
   "cell_type": "code",
   "execution_count": 23,
   "id": "6d502922",
   "metadata": {},
   "outputs": [],
   "source": [
    "import numpy as np\n",
    "import pandas as pd\n",
    "import networkx as nx\n",
    "import math"
   ]
  },
  {
   "cell_type": "code",
   "execution_count": 4,
   "id": "e326bbe7",
   "metadata": {},
   "outputs": [
    {
     "data": {
      "text/plain": [
       "array([[1., 1., 0., 0., 0., 0., 0., 0., 0., 0.],\n",
       "       [0., 0., 1., 1., 0., 0., 0., 0., 0., 0.],\n",
       "       [0., 0., 0., 0., 1., 1., 0., 0., 0., 0.],\n",
       "       [0., 0., 0., 0., 0., 0., 1., 1., 0., 0.],\n",
       "       [0., 0., 0., 0., 0., 0., 0., 0., 1., 1.],\n",
       "       [0., 0., 0., 0., 0., 0., 0., 0., 0., 0.],\n",
       "       [1., 1., 0., 0., 0., 0., 0., 0., 0., 0.],\n",
       "       [0., 0., 1., 1., 0., 0., 0., 0., 0., 0.],\n",
       "       [0., 0., 0., 0., 1., 1., 0., 0., 0., 0.],\n",
       "       [0., 0., 0., 0., 0., 0., 1., 1., 0., 0.]])"
      ]
     },
     "execution_count": 4,
     "metadata": {},
     "output_type": "execute_result"
    }
   ],
   "source": [
    "row_sum = 2\n",
    "col_sum = 1\n",
    "arr     = np.zeros((10, 10))\n",
    "#generate a special case, with given row_sum and col_sum\n",
    "for i in range(row_sum):\n",
    "    arr.ravel()[i::arr.shape[1]+row_sum] = 1\n",
    "arr"
   ]
  },
  {
   "cell_type": "code",
   "execution_count": 7,
   "id": "8aaae5da",
   "metadata": {},
   "outputs": [],
   "source": [
    "df = pd.DataFrame(arr).T\n",
    "df.to_excel(excel_writer = \"D:/cs/decision modelling/test.xlsx\")"
   ]
  },
  {
   "cell_type": "markdown",
   "id": "8d7a4ce1",
   "metadata": {},
   "source": [
    "# convert to csv"
   ]
  },
  {
   "cell_type": "code",
   "execution_count": 8,
   "id": "729eff4b",
   "metadata": {},
   "outputs": [],
   "source": [
    "df.to_csv(\"D:/cs/decision modelling/test.csv\", index = None)"
   ]
  },
  {
   "cell_type": "code",
   "execution_count": 10,
   "id": "e75ac9b0",
   "metadata": {},
   "outputs": [
    {
     "data": {
      "text/html": [
       "<div>\n",
       "<style scoped>\n",
       "    .dataframe tbody tr th:only-of-type {\n",
       "        vertical-align: middle;\n",
       "    }\n",
       "\n",
       "    .dataframe tbody tr th {\n",
       "        vertical-align: top;\n",
       "    }\n",
       "\n",
       "    .dataframe thead th {\n",
       "        text-align: right;\n",
       "    }\n",
       "</style>\n",
       "<table border=\"1\" class=\"dataframe\">\n",
       "  <thead>\n",
       "    <tr style=\"text-align: right;\">\n",
       "      <th></th>\n",
       "      <th>0</th>\n",
       "      <th>1</th>\n",
       "      <th>2</th>\n",
       "      <th>3</th>\n",
       "      <th>4</th>\n",
       "      <th>5</th>\n",
       "      <th>6</th>\n",
       "      <th>7</th>\n",
       "      <th>8</th>\n",
       "      <th>9</th>\n",
       "    </tr>\n",
       "  </thead>\n",
       "  <tbody>\n",
       "    <tr>\n",
       "      <th>0</th>\n",
       "      <td>1.0</td>\n",
       "      <td>0.0</td>\n",
       "      <td>0.0</td>\n",
       "      <td>0.0</td>\n",
       "      <td>0.0</td>\n",
       "      <td>0.0</td>\n",
       "      <td>1.0</td>\n",
       "      <td>0.0</td>\n",
       "      <td>0.0</td>\n",
       "      <td>0.0</td>\n",
       "    </tr>\n",
       "    <tr>\n",
       "      <th>1</th>\n",
       "      <td>1.0</td>\n",
       "      <td>0.0</td>\n",
       "      <td>0.0</td>\n",
       "      <td>0.0</td>\n",
       "      <td>0.0</td>\n",
       "      <td>0.0</td>\n",
       "      <td>1.0</td>\n",
       "      <td>0.0</td>\n",
       "      <td>0.0</td>\n",
       "      <td>0.0</td>\n",
       "    </tr>\n",
       "    <tr>\n",
       "      <th>2</th>\n",
       "      <td>0.0</td>\n",
       "      <td>1.0</td>\n",
       "      <td>0.0</td>\n",
       "      <td>0.0</td>\n",
       "      <td>0.0</td>\n",
       "      <td>0.0</td>\n",
       "      <td>0.0</td>\n",
       "      <td>1.0</td>\n",
       "      <td>0.0</td>\n",
       "      <td>0.0</td>\n",
       "    </tr>\n",
       "    <tr>\n",
       "      <th>3</th>\n",
       "      <td>0.0</td>\n",
       "      <td>1.0</td>\n",
       "      <td>0.0</td>\n",
       "      <td>0.0</td>\n",
       "      <td>0.0</td>\n",
       "      <td>0.0</td>\n",
       "      <td>0.0</td>\n",
       "      <td>1.0</td>\n",
       "      <td>0.0</td>\n",
       "      <td>0.0</td>\n",
       "    </tr>\n",
       "    <tr>\n",
       "      <th>4</th>\n",
       "      <td>0.0</td>\n",
       "      <td>0.0</td>\n",
       "      <td>1.0</td>\n",
       "      <td>0.0</td>\n",
       "      <td>0.0</td>\n",
       "      <td>0.0</td>\n",
       "      <td>0.0</td>\n",
       "      <td>0.0</td>\n",
       "      <td>1.0</td>\n",
       "      <td>0.0</td>\n",
       "    </tr>\n",
       "    <tr>\n",
       "      <th>5</th>\n",
       "      <td>0.0</td>\n",
       "      <td>0.0</td>\n",
       "      <td>1.0</td>\n",
       "      <td>0.0</td>\n",
       "      <td>0.0</td>\n",
       "      <td>0.0</td>\n",
       "      <td>0.0</td>\n",
       "      <td>0.0</td>\n",
       "      <td>1.0</td>\n",
       "      <td>0.0</td>\n",
       "    </tr>\n",
       "    <tr>\n",
       "      <th>6</th>\n",
       "      <td>0.0</td>\n",
       "      <td>0.0</td>\n",
       "      <td>0.0</td>\n",
       "      <td>1.0</td>\n",
       "      <td>0.0</td>\n",
       "      <td>0.0</td>\n",
       "      <td>0.0</td>\n",
       "      <td>0.0</td>\n",
       "      <td>0.0</td>\n",
       "      <td>1.0</td>\n",
       "    </tr>\n",
       "    <tr>\n",
       "      <th>7</th>\n",
       "      <td>0.0</td>\n",
       "      <td>0.0</td>\n",
       "      <td>0.0</td>\n",
       "      <td>1.0</td>\n",
       "      <td>0.0</td>\n",
       "      <td>0.0</td>\n",
       "      <td>0.0</td>\n",
       "      <td>0.0</td>\n",
       "      <td>0.0</td>\n",
       "      <td>1.0</td>\n",
       "    </tr>\n",
       "    <tr>\n",
       "      <th>8</th>\n",
       "      <td>0.0</td>\n",
       "      <td>0.0</td>\n",
       "      <td>0.0</td>\n",
       "      <td>0.0</td>\n",
       "      <td>1.0</td>\n",
       "      <td>0.0</td>\n",
       "      <td>0.0</td>\n",
       "      <td>0.0</td>\n",
       "      <td>0.0</td>\n",
       "      <td>0.0</td>\n",
       "    </tr>\n",
       "    <tr>\n",
       "      <th>9</th>\n",
       "      <td>0.0</td>\n",
       "      <td>0.0</td>\n",
       "      <td>0.0</td>\n",
       "      <td>0.0</td>\n",
       "      <td>1.0</td>\n",
       "      <td>0.0</td>\n",
       "      <td>0.0</td>\n",
       "      <td>0.0</td>\n",
       "      <td>0.0</td>\n",
       "      <td>0.0</td>\n",
       "    </tr>\n",
       "  </tbody>\n",
       "</table>\n",
       "</div>"
      ],
      "text/plain": [
       "     0    1    2    3    4    5    6    7    8    9\n",
       "0  1.0  0.0  0.0  0.0  0.0  0.0  1.0  0.0  0.0  0.0\n",
       "1  1.0  0.0  0.0  0.0  0.0  0.0  1.0  0.0  0.0  0.0\n",
       "2  0.0  1.0  0.0  0.0  0.0  0.0  0.0  1.0  0.0  0.0\n",
       "3  0.0  1.0  0.0  0.0  0.0  0.0  0.0  1.0  0.0  0.0\n",
       "4  0.0  0.0  1.0  0.0  0.0  0.0  0.0  0.0  1.0  0.0\n",
       "5  0.0  0.0  1.0  0.0  0.0  0.0  0.0  0.0  1.0  0.0\n",
       "6  0.0  0.0  0.0  1.0  0.0  0.0  0.0  0.0  0.0  1.0\n",
       "7  0.0  0.0  0.0  1.0  0.0  0.0  0.0  0.0  0.0  1.0\n",
       "8  0.0  0.0  0.0  0.0  1.0  0.0  0.0  0.0  0.0  0.0\n",
       "9  0.0  0.0  0.0  0.0  1.0  0.0  0.0  0.0  0.0  0.0"
      ]
     },
     "execution_count": 10,
     "metadata": {},
     "output_type": "execute_result"
    }
   ],
   "source": [
    "df1 = pd.read_csv(\"D:/cs/decision modelling/test.csv\")\n",
    "df1"
   ]
  },
  {
   "cell_type": "code",
   "execution_count": 15,
   "id": "d1471046",
   "metadata": {},
   "outputs": [],
   "source": [
    "df1 = df1.to_numpy()"
   ]
  },
  {
   "cell_type": "code",
   "execution_count": 16,
   "id": "0c6b219d",
   "metadata": {},
   "outputs": [],
   "source": [
    "G = nx.from_numpy_matrix(df1, create_using=nx.MultiGraph)"
   ]
  },
  {
   "cell_type": "code",
   "execution_count": 17,
   "id": "477b41a5",
   "metadata": {},
   "outputs": [
    {
     "data": {
      "image/png": "[encoded data removed]",
      "text/plain": [
       "<Figure size 640x480 with 1 Axes>"
      ]
     },
     "metadata": {},
     "output_type": "display_data"
    }
   ],
   "source": [
    "nx.draw(G)"
   ]
  },
  {
   "cell_type": "markdown",
   "id": "3209b8ac",
   "metadata": {},
   "source": [
    "## reflexive "
   ]
  },
  {
   "cell_type": "code",
   "execution_count": 19,
   "id": "4dbc7ea4",
   "metadata": {},
   "outputs": [],
   "source": [
    "def is_reflexive_mat(mat):\n",
    "\n",
    "    n = len(mat)\n",
    "    for i in range(n):\n",
    "        if not mat[i][i]:\n",
    "            return False\n",
    "    return True"
   ]
  },
  {
   "cell_type": "code",
   "execution_count": 20,
   "id": "15918265",
   "metadata": {
    "scrolled": true
   },
   "outputs": [
    {
     "data": {
      "text/plain": [
       "False"
      ]
     },
     "execution_count": 20,
     "metadata": {},
     "output_type": "execute_result"
    }
   ],
   "source": [
    "is_reflexive_mat(df1)"
   ]
  },
  {
   "cell_type": "code",
   "execution_count": null,
   "id": "91653ef5",
   "metadata": {},
   "outputs": [],
   "source": []
  },
  {
   "cell_type": "markdown",
   "id": "7294ed0c",
   "metadata": {},
   "source": [
    "## irreflexive "
   ]
  },
  {
   "cell_type": "code",
   "execution_count": 69,
   "id": "f19d9efb",
   "metadata": {},
   "outputs": [],
   "source": [
    "def is_irreflexive_mat(mat):\n",
    "\n",
    "    n = len(mat)\n",
    "    for i in range(n):\n",
    "        if mat[i][i]:\n",
    "            return False\n",
    "    return True"
   ]
  },
  {
   "cell_type": "code",
   "execution_count": 70,
   "id": "e412bd5a",
   "metadata": {
    "scrolled": true
   },
   "outputs": [
    {
     "data": {
      "text/plain": [
       "False"
      ]
     },
     "execution_count": 70,
     "metadata": {},
     "output_type": "execute_result"
    }
   ],
   "source": [
    "is_irreflexive_mat(df1)"
   ]
  },
  {
   "cell_type": "markdown",
   "id": "0b274a9c",
   "metadata": {},
   "source": [
    "# complete "
   ]
  },
  {
   "cell_type": "code",
   "execution_count": 42,
   "id": "0614d111",
   "metadata": {},
   "outputs": [],
   "source": [
    "def is_complete_mat(mat):\n",
    "    \n",
    "    n = len(mat)\n",
    "\n",
    "    #for i in range(0,math.ceil(n/2)):\n",
    "    for i in range(n):\n",
    "        for j in range(n):\n",
    "            if not mat[i][j] and not mat[j][i]:\n",
    "                return False\n",
    "    return True"
   ]
  },
  {
   "cell_type": "code",
   "execution_count": 43,
   "id": "7af4f07c",
   "metadata": {},
   "outputs": [
    {
     "data": {
      "text/plain": [
       "False"
      ]
     },
     "execution_count": 43,
     "metadata": {},
     "output_type": "execute_result"
    }
   ],
   "source": [
    "is_complete_mat(df1)"
   ]
  },
  {
   "cell_type": "markdown",
   "id": "63be14cf",
   "metadata": {},
   "source": [
    "# symmetric"
   ]
  },
  {
   "cell_type": "code",
   "execution_count": 45,
   "id": "ba8400ed",
   "metadata": {},
   "outputs": [],
   "source": [
    "def is_symmetric_mat(mat):\n",
    "\n",
    "    n = len(mat)\n",
    "    for i in range(n):\n",
    "        for j in range(n):\n",
    "            if mat[i][j] and not mat[j][i]:\n",
    "                return False\n",
    "    return True"
   ]
  },
  {
   "cell_type": "code",
   "execution_count": 46,
   "id": "392fd2e4",
   "metadata": {},
   "outputs": [
    {
     "data": {
      "text/plain": [
       "False"
      ]
     },
     "execution_count": 46,
     "metadata": {},
     "output_type": "execute_result"
    }
   ],
   "source": [
    "is_symmetric_mat(df1)"
   ]
  },
  {
   "cell_type": "markdown",
   "id": "ad533940",
   "metadata": {},
   "source": [
    "# Asymmetric"
   ]
  },
  {
   "cell_type": "code",
   "execution_count": 49,
   "id": "8890cdeb",
   "metadata": {},
   "outputs": [],
   "source": [
    "def is_a_symmetric_mat(mat):\n",
    "\n",
    "    n = len(mat)\n",
    "    for i in range(n):\n",
    "        for j in range(n):\n",
    "            if mat[i][j] and mat[j][i]:\n",
    "                return False\n",
    "    return True"
   ]
  },
  {
   "cell_type": "code",
   "execution_count": 50,
   "id": "53154929",
   "metadata": {},
   "outputs": [
    {
     "data": {
      "text/plain": [
       "False"
      ]
     },
     "execution_count": 50,
     "metadata": {},
     "output_type": "execute_result"
    }
   ],
   "source": [
    "is_a_symmetric_mat(df1)"
   ]
  },
  {
   "cell_type": "markdown",
   "id": "0a9c5a6b",
   "metadata": {},
   "source": [
    "# AntiSymmetric"
   ]
  },
  {
   "cell_type": "code",
   "execution_count": 58,
   "id": "92cceb0b",
   "metadata": {},
   "outputs": [],
   "source": [
    "def is_anti_symmetric_mat(mat):\n",
    "\n",
    "    n = len(mat)\n",
    "    for i in range(n):\n",
    "        for j in range(n):\n",
    "            if mat[i][j] and mat[j][i]:\n",
    "                if mat[i][j] != mat[j][i]:\n",
    "                    return False\n",
    "    return True"
   ]
  },
  {
   "cell_type": "code",
   "execution_count": 59,
   "id": "8775ef1c",
   "metadata": {},
   "outputs": [
    {
     "data": {
      "text/plain": [
       "True"
      ]
     },
     "execution_count": 59,
     "metadata": {},
     "output_type": "execute_result"
    }
   ],
   "source": [
    "is_anti_symmetric_mat(df1)"
   ]
  },
  {
   "cell_type": "markdown",
   "id": "a9ad704a",
   "metadata": {},
   "source": [
    "# transitive "
   ]
  },
  {
   "cell_type": "code",
   "execution_count": 61,
   "id": "65d10c07",
   "metadata": {},
   "outputs": [],
   "source": [
    "def is_transitive_mat(mat):\n",
    "\n",
    "    n = len(mat)\n",
    "    for i in range(n):\n",
    "        for j in range(n):\n",
    "            if mat[i][j]:\n",
    "                 for k in range(n):\n",
    "                        if mat[j][k] and not mat[i][k]:\n",
    "                            return False\n",
    "    return True"
   ]
  },
  {
   "cell_type": "code",
   "execution_count": 62,
   "id": "3d17b9cd",
   "metadata": {},
   "outputs": [
    {
     "data": {
      "text/plain": [
       "False"
      ]
     },
     "execution_count": 62,
     "metadata": {},
     "output_type": "execute_result"
    }
   ],
   "source": [
    "is_transitive_mat(df1)"
   ]
  },
  {
   "cell_type": "markdown",
   "id": "320b1cc2",
   "metadata": {},
   "source": [
    "# negative transitive "
   ]
  },
  {
   "cell_type": "code",
   "execution_count": 63,
   "id": "50b5f673",
   "metadata": {},
   "outputs": [],
   "source": [
    "def is_negative_transitive_mat(mat):\n",
    "\n",
    "    n = len(mat)\n",
    "    for i in range(n):\n",
    "        for j in range(n):\n",
    "            if not mat[i][j]:\n",
    "                 for k in range(n):\n",
    "                        if not mat[j][k] and mat[i][k]:\n",
    "                            return False\n",
    "    return True"
   ]
  },
  {
   "cell_type": "code",
   "execution_count": 64,
   "id": "bd3a3e0c",
   "metadata": {},
   "outputs": [
    {
     "data": {
      "text/plain": [
       "False"
      ]
     },
     "execution_count": 64,
     "metadata": {},
     "output_type": "execute_result"
    }
   ],
   "source": [
    "is_negative_transitive_mat(df1)"
   ]
  },
  {
   "cell_type": "markdown",
   "id": "32f74c8c",
   "metadata": {},
   "source": [
    "# complete order "
   ]
  },
  {
   "cell_type": "code",
   "execution_count": 67,
   "id": "cc33edf2",
   "metadata": {},
   "outputs": [],
   "source": [
    "def is_complete_order(mat):\n",
    "    if is_anti_symmetric_mat(mat) and is_transitive_mat(mat):\n",
    "        return True\n",
    "    else:\n",
    "        return False"
   ]
  },
  {
   "cell_type": "code",
   "execution_count": 68,
   "id": "6891c69f",
   "metadata": {},
   "outputs": [
    {
     "data": {
      "text/plain": [
       "False"
      ]
     },
     "execution_count": 68,
     "metadata": {},
     "output_type": "execute_result"
    }
   ],
   "source": [
    "is_complete_order(df1)"
   ]
  },
  {
   "cell_type": "markdown",
   "id": "396903be",
   "metadata": {},
   "source": [
    "# complete preOrder"
   ]
  },
  {
   "cell_type": "code",
   "execution_count": 65,
   "id": "bd016f94",
   "metadata": {},
   "outputs": [],
   "source": [
    "def is_complete_preorder(mat):\n",
    "    if is_complete_mat(mat) and is_transitive_mat(mat):\n",
    "        return True\n",
    "    else:\n",
    "        return False\n"
   ]
  },
  {
   "cell_type": "code",
   "execution_count": 66,
   "id": "eba7857a",
   "metadata": {},
   "outputs": [
    {
     "data": {
      "text/plain": [
       "False"
      ]
     },
     "execution_count": 66,
     "metadata": {},
     "output_type": "execute_result"
    }
   ],
   "source": [
    "is_complete_preorder(df1)"
   ]
  },
  {
   "cell_type": "markdown",
   "id": "c5a7dd7c",
   "metadata": {},
   "source": [
    "# strict order"
   ]
  },
  {
   "cell_type": "code",
   "execution_count": 71,
   "id": "341c824b",
   "metadata": {},
   "outputs": [],
   "source": [
    "def strict_order(mat):\n",
    "    if not is_irreflexive_mat(mat) and not is_a_symmetric_mat(mat) and is_transitive_mat(mat):\n",
    "        return True\n",
    "    else:\n",
    "        return False"
   ]
  },
  {
   "cell_type": "code",
   "execution_count": 72,
   "id": "0286856d",
   "metadata": {},
   "outputs": [
    {
     "data": {
      "text/plain": [
       "False"
      ]
     },
     "execution_count": 72,
     "metadata": {},
     "output_type": "execute_result"
    }
   ],
   "source": [
    "strict_order(df1)"
   ]
  },
  {
   "cell_type": "markdown",
   "id": "7125b981",
   "metadata": {},
   "source": [
    "# indifference relation"
   ]
  },
  {
   "cell_type": "code",
   "execution_count": null,
   "id": "3d20d317",
   "metadata": {},
   "outputs": [],
   "source": []
  }
 ],
 "metadata": {
  "kernelspec": {
   "display_name": "Python 3 (ipykernel)",
   "language": "python",
   "name": "python3"
  },
  "language_info": {
   "codemirror_mode": {
    "name": "ipython",
    "version": 3
   },
   "file_extension": ".py",
   "mimetype": "text/x-python",
   "name": "python",
   "nbconvert_exporter": "python",
   "pygments_lexer": "ipython3",
   "version": "3.8.13"
  }
 },
 "nbformat": 4,
 "nbformat_minor": 5
}
